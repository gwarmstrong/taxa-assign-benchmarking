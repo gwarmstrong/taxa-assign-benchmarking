{
 "cells": [
  {
   "cell_type": "code",
   "execution_count": 1,
   "metadata": {},
   "outputs": [],
   "source": [
    "from random import seed, choice\n",
    "\n",
    "import os\n",
    "import heapq\n",
    "import numpy as np\n",
    "import scipy as sp\n",
    "import pandas as pd\n",
    "import matplotlib as mpl\n",
    "import matplotlib.pyplot as plt\n",
    "import seaborn as sns\n",
    "from skbio.tree import TreeNode"
   ]
  },
  {
   "cell_type": "markdown",
   "metadata": {},
   "source": [
    "### Overview\n",
    "**Goal**: Generate a smaller group of clades from the original 10,575 genomes in the phylogeny, whereby the divergence amongst the clades can be limited to a given threshold, and the divergence between the clades is maximized.\n",
    "\n",
    "This approach is motivated by [WoL](https://github.com/biocore/wol/blob/master/code/notebooks/taxon_subsampling.ipynb) (Zhu et al.)\n",
    "\n",
    "First, we limit the possible groupings of clades to be chosen from those that have a minimum relative evolutionary divergence (**RED**) ([Parks, et al., 2018](https://www.nature.com/articles/nbt.4229)) over a given threshold, `min_red`.\n",
    "Then, for each candidate grouping rooted at `clade_root`, to maximize the divergence between clades, we can find the `n_clades` by finding the `n` descendants of `clade_root` that minimize $\\sum_{i=1}^n \\text{RED}(\\texttt{node}_i)$. Specific genomes can then be sampled based on criteria such as:\n",
    "1. Contains the most marker genes.\n",
    "2. Contamination level is the lowest.\n",
    "3. DNA quality score is the highest.\n",
    "4. Random selection.\n",
    "5. Sampling of all included genomes.\n",
    "\n",
    "Qiyun has previously used the first three in unison to select a single. Those three criteria could potentially be used to filter to a smaller list, amongst which all genomes are sampled.\n",
    "\n",
    "**Effect of paramters**:\n",
    "* Increasing `min_red` will limit the number of genomes a given group of clades can contain.\n",
    "* Increasing `n_clades` will increase the number of subgroups of genomes that are created.\n",
    "Increasing either paramter will increase the resolution that downstream methods need to properly handle such groups of genomes."
   ]
  },
  {
   "cell_type": "code",
   "execution_count": 2,
   "metadata": {},
   "outputs": [],
   "source": [
    "seed(42)\n",
    "%matplotlib inline"
   ]
  },
  {
   "cell_type": "code",
   "execution_count": 3,
   "metadata": {},
   "outputs": [
    {
     "data": {
      "text/plain": [
       "10575"
      ]
     },
     "execution_count": 3,
     "metadata": {},
     "output_type": "execute_result"
    }
   ],
   "source": [
    "tree_fp = 'https://raw.githubusercontent.com/biocore/wol/master/data/trees/astral/branch_length/cons/astral.cons.nid.nwk'\n",
    "# tree_fp = 'data/trees/astral.nid.nwk'\n",
    "tree = TreeNode.read(tree_fp)\n",
    "tree.count(tips=True)"
   ]
  },
  {
   "cell_type": "code",
   "execution_count": 4,
   "metadata": {},
   "outputs": [],
   "source": [
    "supports_fp = 'https://raw.githubusercontent.com/biocore/wol/master/data/trees/astral/astral.supports.tsv.bz2'\n",
    "dfs = pd.read_table(supports_fp, index_col=0)"
   ]
  },
  {
   "cell_type": "code",
   "execution_count": 5,
   "metadata": {},
   "outputs": [
    {
     "data": {
      "text/html": [
       "<div>\n",
       "<style scoped>\n",
       "    .dataframe tbody tr th:only-of-type {\n",
       "        vertical-align: middle;\n",
       "    }\n",
       "\n",
       "    .dataframe tbody tr th {\n",
       "        vertical-align: top;\n",
       "    }\n",
       "\n",
       "    .dataframe thead th {\n",
       "        text-align: right;\n",
       "    }\n",
       "</style>\n",
       "<table border=\"1\" class=\"dataframe\">\n",
       "  <thead>\n",
       "    <tr style=\"text-align: right;\">\n",
       "      <th></th>\n",
       "      <th>EN</th>\n",
       "      <th>LPP</th>\n",
       "      <th>QT</th>\n",
       "    </tr>\n",
       "    <tr>\n",
       "      <th>#node</th>\n",
       "      <th></th>\n",
       "      <th></th>\n",
       "      <th></th>\n",
       "    </tr>\n",
       "  </thead>\n",
       "  <tbody>\n",
       "    <tr>\n",
       "      <td>N2</td>\n",
       "      <td>196.0</td>\n",
       "      <td>0.998406</td>\n",
       "      <td>0.450953</td>\n",
       "    </tr>\n",
       "    <tr>\n",
       "      <td>N3</td>\n",
       "      <td>196.0</td>\n",
       "      <td>0.998406</td>\n",
       "      <td>0.450953</td>\n",
       "    </tr>\n",
       "    <tr>\n",
       "      <td>N4</td>\n",
       "      <td>124.0</td>\n",
       "      <td>0.999993</td>\n",
       "      <td>0.535120</td>\n",
       "    </tr>\n",
       "    <tr>\n",
       "      <td>N5</td>\n",
       "      <td>195.0</td>\n",
       "      <td>0.914387</td>\n",
       "      <td>0.398648</td>\n",
       "    </tr>\n",
       "    <tr>\n",
       "      <td>N6</td>\n",
       "      <td>208.0</td>\n",
       "      <td>1.000000</td>\n",
       "      <td>0.539983</td>\n",
       "    </tr>\n",
       "  </tbody>\n",
       "</table>\n",
       "</div>"
      ],
      "text/plain": [
       "          EN       LPP        QT\n",
       "#node                           \n",
       "N2     196.0  0.998406  0.450953\n",
       "N3     196.0  0.998406  0.450953\n",
       "N4     124.0  0.999993  0.535120\n",
       "N5     195.0  0.914387  0.398648\n",
       "N6     208.0  1.000000  0.539983"
      ]
     },
     "execution_count": 5,
     "metadata": {},
     "output_type": "execute_result"
    }
   ],
   "source": [
    "dfs.head()"
   ]
  },
  {
   "cell_type": "code",
   "execution_count": 6,
   "metadata": {},
   "outputs": [],
   "source": [
    "genomes_fp = 'https://biocore.github.io/wol/data/genomes/metadata.tsv.bz2'\n",
    "dfg = pd.read_table(genomes_fp, index_col=0)"
   ]
  },
  {
   "cell_type": "code",
   "execution_count": 7,
   "metadata": {},
   "outputs": [
    {
     "data": {
      "text/html": [
       "<div>\n",
       "<style scoped>\n",
       "    .dataframe tbody tr th:only-of-type {\n",
       "        vertical-align: middle;\n",
       "    }\n",
       "\n",
       "    .dataframe tbody tr th {\n",
       "        vertical-align: top;\n",
       "    }\n",
       "\n",
       "    .dataframe thead th {\n",
       "        text-align: right;\n",
       "    }\n",
       "</style>\n",
       "<table border=\"1\" class=\"dataframe\">\n",
       "  <thead>\n",
       "    <tr style=\"text-align: right;\">\n",
       "      <th></th>\n",
       "      <th>asm_name</th>\n",
       "      <th>assembly_accession</th>\n",
       "      <th>bioproject</th>\n",
       "      <th>biosample</th>\n",
       "      <th>wgs_master</th>\n",
       "      <th>seq_rel_date</th>\n",
       "      <th>submitter</th>\n",
       "      <th>ftp_path</th>\n",
       "      <th>img_id</th>\n",
       "      <th>gtdb_id</th>\n",
       "      <th>...</th>\n",
       "      <th>coding_density</th>\n",
       "      <th>completeness</th>\n",
       "      <th>contamination</th>\n",
       "      <th>strain_heterogeneity</th>\n",
       "      <th>markers</th>\n",
       "      <th>5s_rrna</th>\n",
       "      <th>16s_rrna</th>\n",
       "      <th>23s_rrna</th>\n",
       "      <th>trnas</th>\n",
       "      <th>draft_quality</th>\n",
       "    </tr>\n",
       "    <tr>\n",
       "      <th>#genome</th>\n",
       "      <th></th>\n",
       "      <th></th>\n",
       "      <th></th>\n",
       "      <th></th>\n",
       "      <th></th>\n",
       "      <th></th>\n",
       "      <th></th>\n",
       "      <th></th>\n",
       "      <th></th>\n",
       "      <th></th>\n",
       "      <th></th>\n",
       "      <th></th>\n",
       "      <th></th>\n",
       "      <th></th>\n",
       "      <th></th>\n",
       "      <th></th>\n",
       "      <th></th>\n",
       "      <th></th>\n",
       "      <th></th>\n",
       "      <th></th>\n",
       "      <th></th>\n",
       "    </tr>\n",
       "  </thead>\n",
       "  <tbody>\n",
       "    <tr>\n",
       "      <td>G000005825</td>\n",
       "      <td>ASM582v2</td>\n",
       "      <td>GCF_000005825.2</td>\n",
       "      <td>PRJNA224116</td>\n",
       "      <td>SAMN02603086</td>\n",
       "      <td>NaN</td>\n",
       "      <td>2010/12/15</td>\n",
       "      <td>Center for Genomic Sciences, Allegheny-Singer ...</td>\n",
       "      <td>ftp://ftp.ncbi.nlm.nih.gov/genomes/all/GCF/000...</td>\n",
       "      <td>646311908</td>\n",
       "      <td>RS_GCF_000005825.2</td>\n",
       "      <td>...</td>\n",
       "      <td>85.144124</td>\n",
       "      <td>98.68</td>\n",
       "      <td>1.32</td>\n",
       "      <td>0.0</td>\n",
       "      <td>377</td>\n",
       "      <td>yes</td>\n",
       "      <td>yes</td>\n",
       "      <td>yes</td>\n",
       "      <td>20</td>\n",
       "      <td>high</td>\n",
       "    </tr>\n",
       "    <tr>\n",
       "      <td>G000006175</td>\n",
       "      <td>ASM617v2</td>\n",
       "      <td>GCF_000006175.1</td>\n",
       "      <td>PRJNA224116</td>\n",
       "      <td>SAMN00000040</td>\n",
       "      <td>NaN</td>\n",
       "      <td>2010/06/03</td>\n",
       "      <td>US DOE Joint Genome Institute (JGI-PGF)</td>\n",
       "      <td>ftp://ftp.ncbi.nlm.nih.gov/genomes/all/GCF/000...</td>\n",
       "      <td>646564549</td>\n",
       "      <td>RS_GCF_000006175.1</td>\n",
       "      <td>...</td>\n",
       "      <td>80.167033</td>\n",
       "      <td>99.05</td>\n",
       "      <td>0.00</td>\n",
       "      <td>0.0</td>\n",
       "      <td>165</td>\n",
       "      <td>no</td>\n",
       "      <td>yes</td>\n",
       "      <td>yes</td>\n",
       "      <td>19</td>\n",
       "      <td>medium</td>\n",
       "    </tr>\n",
       "    <tr>\n",
       "      <td>G000006605</td>\n",
       "      <td>ASM660v1</td>\n",
       "      <td>GCF_000006605.1</td>\n",
       "      <td>PRJNA224116</td>\n",
       "      <td>SAMEA3283089</td>\n",
       "      <td>NaN</td>\n",
       "      <td>2005/06/27</td>\n",
       "      <td>Bielefeld Univ</td>\n",
       "      <td>ftp://ftp.ncbi.nlm.nih.gov/genomes/all/GCF/000...</td>\n",
       "      <td>637000085</td>\n",
       "      <td>RS_GCF_000006605.1</td>\n",
       "      <td>...</td>\n",
       "      <td>89.378688</td>\n",
       "      <td>100.00</td>\n",
       "      <td>0.68</td>\n",
       "      <td>0.0</td>\n",
       "      <td>319</td>\n",
       "      <td>yes</td>\n",
       "      <td>yes</td>\n",
       "      <td>yes</td>\n",
       "      <td>20</td>\n",
       "      <td>high</td>\n",
       "    </tr>\n",
       "    <tr>\n",
       "      <td>G000006725</td>\n",
       "      <td>ASM672v1</td>\n",
       "      <td>GCF_000006725.1</td>\n",
       "      <td>PRJNA224116</td>\n",
       "      <td>SAMN02603773</td>\n",
       "      <td>NaN</td>\n",
       "      <td>2004/06/04</td>\n",
       "      <td>Sao Paulo state (Brazil) Consortium</td>\n",
       "      <td>ftp://ftp.ncbi.nlm.nih.gov/genomes/all/GCF/000...</td>\n",
       "      <td>637000348</td>\n",
       "      <td>RS_GCF_000006725.1</td>\n",
       "      <td>...</td>\n",
       "      <td>82.592990</td>\n",
       "      <td>99.59</td>\n",
       "      <td>0.18</td>\n",
       "      <td>0.0</td>\n",
       "      <td>325</td>\n",
       "      <td>yes</td>\n",
       "      <td>yes</td>\n",
       "      <td>yes</td>\n",
       "      <td>20</td>\n",
       "      <td>high</td>\n",
       "    </tr>\n",
       "    <tr>\n",
       "      <td>G000006745</td>\n",
       "      <td>ASM674v1</td>\n",
       "      <td>GCF_000006745.1</td>\n",
       "      <td>PRJNA57623</td>\n",
       "      <td>SAMN02603969</td>\n",
       "      <td>NaN</td>\n",
       "      <td>2001/01/09</td>\n",
       "      <td>TIGR</td>\n",
       "      <td>ftp://ftp.ncbi.nlm.nih.gov/genomes/all/GCF/000...</td>\n",
       "      <td>637000333</td>\n",
       "      <td>RS_GCF_000006745.1</td>\n",
       "      <td>...</td>\n",
       "      <td>86.533164</td>\n",
       "      <td>99.86</td>\n",
       "      <td>0.03</td>\n",
       "      <td>0.0</td>\n",
       "      <td>360</td>\n",
       "      <td>yes</td>\n",
       "      <td>yes</td>\n",
       "      <td>yes</td>\n",
       "      <td>20</td>\n",
       "      <td>high</td>\n",
       "    </tr>\n",
       "  </tbody>\n",
       "</table>\n",
       "<p>5 rows × 52 columns</p>\n",
       "</div>"
      ],
      "text/plain": [
       "            asm_name assembly_accession   bioproject     biosample wgs_master  \\\n",
       "#genome                                                                         \n",
       "G000005825  ASM582v2    GCF_000005825.2  PRJNA224116  SAMN02603086        NaN   \n",
       "G000006175  ASM617v2    GCF_000006175.1  PRJNA224116  SAMN00000040        NaN   \n",
       "G000006605  ASM660v1    GCF_000006605.1  PRJNA224116  SAMEA3283089        NaN   \n",
       "G000006725  ASM672v1    GCF_000006725.1  PRJNA224116  SAMN02603773        NaN   \n",
       "G000006745  ASM674v1    GCF_000006745.1   PRJNA57623  SAMN02603969        NaN   \n",
       "\n",
       "           seq_rel_date                                          submitter  \\\n",
       "#genome                                                                      \n",
       "G000005825   2010/12/15  Center for Genomic Sciences, Allegheny-Singer ...   \n",
       "G000006175   2010/06/03            US DOE Joint Genome Institute (JGI-PGF)   \n",
       "G000006605   2005/06/27                                     Bielefeld Univ   \n",
       "G000006725   2004/06/04                Sao Paulo state (Brazil) Consortium   \n",
       "G000006745   2001/01/09                                               TIGR   \n",
       "\n",
       "                                                     ftp_path     img_id  \\\n",
       "#genome                                                                    \n",
       "G000005825  ftp://ftp.ncbi.nlm.nih.gov/genomes/all/GCF/000...  646311908   \n",
       "G000006175  ftp://ftp.ncbi.nlm.nih.gov/genomes/all/GCF/000...  646564549   \n",
       "G000006605  ftp://ftp.ncbi.nlm.nih.gov/genomes/all/GCF/000...  637000085   \n",
       "G000006725  ftp://ftp.ncbi.nlm.nih.gov/genomes/all/GCF/000...  637000348   \n",
       "G000006745  ftp://ftp.ncbi.nlm.nih.gov/genomes/all/GCF/000...  637000333   \n",
       "\n",
       "                       gtdb_id  ... coding_density completeness contamination  \\\n",
       "#genome                         ...                                             \n",
       "G000005825  RS_GCF_000005825.2  ...      85.144124        98.68          1.32   \n",
       "G000006175  RS_GCF_000006175.1  ...      80.167033        99.05          0.00   \n",
       "G000006605  RS_GCF_000006605.1  ...      89.378688       100.00          0.68   \n",
       "G000006725  RS_GCF_000006725.1  ...      82.592990        99.59          0.18   \n",
       "G000006745  RS_GCF_000006745.1  ...      86.533164        99.86          0.03   \n",
       "\n",
       "           strain_heterogeneity markers  5s_rrna  16s_rrna 23s_rrna trnas  \\\n",
       "#genome                                                                     \n",
       "G000005825                  0.0     377      yes       yes      yes    20   \n",
       "G000006175                  0.0     165       no       yes      yes    19   \n",
       "G000006605                  0.0     319      yes       yes      yes    20   \n",
       "G000006725                  0.0     325      yes       yes      yes    20   \n",
       "G000006745                  0.0     360      yes       yes      yes    20   \n",
       "\n",
       "           draft_quality  \n",
       "#genome                   \n",
       "G000005825          high  \n",
       "G000006175        medium  \n",
       "G000006605          high  \n",
       "G000006725          high  \n",
       "G000006745          high  \n",
       "\n",
       "[5 rows x 52 columns]"
      ]
     },
     "execution_count": 7,
     "metadata": {},
     "output_type": "execute_result"
    }
   ],
   "source": [
    "dfg.head()"
   ]
  },
  {
   "cell_type": "code",
   "execution_count": 8,
   "metadata": {},
   "outputs": [
    {
     "data": {
      "text/plain": [
       "Index(['asm_name', 'assembly_accession', 'bioproject', 'biosample',\n",
       "       'wgs_master', 'seq_rel_date', 'submitter', 'ftp_path', 'img_id',\n",
       "       'gtdb_id', 'scope', 'assembly_level', 'genome_rep', 'refseq_category',\n",
       "       'release_type', 'taxid', 'species_taxid', 'organism_name',\n",
       "       'infraspecific_name', 'isolate', 'superkingdom', 'phylum', 'class',\n",
       "       'order', 'family', 'genus', 'species', 'classified', 'unique_name',\n",
       "       'lv1_group', 'lv2_group', 'score_faa', 'score_fna', 'score_rrna',\n",
       "       'score_trna', 'total_length', 'contigs', 'gc', 'n50', 'l50', 'proteins',\n",
       "       'protein_length', 'coding_density', 'completeness', 'contamination',\n",
       "       'strain_heterogeneity', 'markers', '5s_rrna', '16s_rrna', '23s_rrna',\n",
       "       'trnas', 'draft_quality'],\n",
       "      dtype='object')"
      ]
     },
     "execution_count": 8,
     "metadata": {},
     "output_type": "execute_result"
    }
   ],
   "source": [
    "dfg.columns"
   ]
  },
  {
   "cell_type": "code",
   "execution_count": 9,
   "metadata": {},
   "outputs": [],
   "source": [
    "tree_tips = [node.name for node in tree.tips()]"
   ]
  },
  {
   "cell_type": "code",
   "execution_count": 10,
   "metadata": {},
   "outputs": [
    {
     "data": {
      "text/plain": [
       "10575"
      ]
     },
     "execution_count": 10,
     "metadata": {},
     "output_type": "execute_result"
    }
   ],
   "source": [
    "len(tree_tips)"
   ]
  },
  {
   "cell_type": "code",
   "execution_count": 11,
   "metadata": {},
   "outputs": [
    {
     "data": {
      "text/plain": [
       "na                       5567\n",
       "representative genome    4904\n",
       "reference genome          104\n",
       "Name: refseq_category, dtype: int64"
      ]
     },
     "execution_count": 11,
     "metadata": {},
     "output_type": "execute_result"
    }
   ],
   "source": [
    "dfg['refseq_category'].value_counts()"
   ]
  },
  {
   "cell_type": "code",
   "execution_count": 12,
   "metadata": {},
   "outputs": [],
   "source": [
    "rep_ref_genomes = dfg.loc[dfg['refseq_category'].isin(['representative genome', 'reference genome'])].index"
   ]
  },
  {
   "cell_type": "code",
   "execution_count": 13,
   "metadata": {},
   "outputs": [],
   "source": [
    "def calc_brlen_metrics(tree):\n",
    "    \"\"\"Calculate branch length-related metrics.\n",
    "    \n",
    "    Originally from Zhu et al.\n",
    "\n",
    "    Parameters\n",
    "    ----------\n",
    "    tree : skbio.TreeNode\n",
    "\n",
    "    Notes\n",
    "    -----\n",
    "    The following metrics are calculated:\n",
    "    \n",
    "        - height: Sum of branch lengths from the root to the node.\n",
    "\n",
    "        - depths: Sums of branch lengths from all descendants to current node.\n",
    "\n",
    "        - red: Relative evolutionary divergence (RED), introduced by Parks,\n",
    "          et al., 2018, Nat Biotechnol.\n",
    "\n",
    "              RED = p + (d / u) * (1 - p)\n",
    "\n",
    "          where p = RED of parent, d = length, u = mean depth of parent\n",
    "    \n",
    "    Metrics will be appended to each node of tree in place.\n",
    "    \"\"\"\n",
    "    # calculate depths\n",
    "    for node in tree.postorder(include_self=True):\n",
    "        if node.name is None:\n",
    "            raise ValueError('Error: Found an unnamed node.')\n",
    "        if node.length is None:\n",
    "            node.length = 0.0\n",
    "        if node.is_tip():\n",
    "            node.depths = [0.0]\n",
    "            node.taxa = [node.name]\n",
    "        else:\n",
    "            node.depths = [\n",
    "                y + x.length for x in node.children for y in x.depths]\n",
    "            node.taxa = sorted(set().union(*[x.taxa for x in node.children]))\n",
    "\n",
    "    # calculate heights and REDs\n",
    "    for node in tree.preorder(include_self=True):\n",
    "        if node.is_root():\n",
    "            node.height = 0.0\n",
    "            node.red = 0.0\n",
    "        else:\n",
    "            node.height = node.parent.height + node.length\n",
    "            if node.is_tip():\n",
    "                node.red = 1.0\n",
    "            else:\n",
    "                node.red = node.parent.red + node.length \\\n",
    "                    / (node.length + sum(node.depths) / len(node.depths)) \\\n",
    "                    * (1 - node.parent.red)"
   ]
  },
  {
   "cell_type": "code",
   "execution_count": 14,
   "metadata": {},
   "outputs": [],
   "source": [
    "calc_brlen_metrics(tree)"
   ]
  },
  {
   "cell_type": "code",
   "execution_count": 15,
   "metadata": {},
   "outputs": [
    {
     "name": "stdout",
     "output_type": "stream",
     "text": [
      "[<TreeNode, name: N7, internal node count: 8450, tips count: 8452>, <TreeNode, name: N6, internal node count: 1452, tips count: 1454>, <TreeNode, name: N5, internal node count: 663, tips count: 665>, <TreeNode, name: N4, internal node count: 2, tips count: 4>]\n",
      "[[<TreeNode, name: N39, internal node count: 3704, tips count: 3706>, <TreeNode, name: N13, internal node count: 41, tips count: 43>, <TreeNode, name: N38, internal node count: 0, tips count: 2>, <TreeNode, name: N24, internal node count: 4699, tips count: 4701>], [<TreeNode, name: N34, internal node count: 886, tips count: 888>, <TreeNode, name: N19, internal node count: 502, tips count: 504>, <TreeNode, name: N33, internal node count: 59, tips count: 61>, <TreeNode, name: G001873755, internal node count: 0, tips count: 0>], [<TreeNode, name: N28, internal node count: 240, tips count: 242>, <TreeNode, name: N11, internal node count: 366, tips count: 368>, <TreeNode, name: N27, internal node count: 46, tips count: 48>, <TreeNode, name: N15, internal node count: 5, tips count: 7>], [<TreeNode, name: G000830295, internal node count: 0, tips count: 0>, <TreeNode, name: G001871415, internal node count: 0, tips count: 0>, <TreeNode, name: G000402355, internal node count: 0, tips count: 0>, <TreeNode, name: G000830275, internal node count: 0, tips count: 0>]]\n"
     ]
    }
   ],
   "source": [
    "min_red = 0.1 # between 0 and 1\n",
    "n_clades = 4\n",
    "clade_roots = []\n",
    "candidates = [tree]\n",
    "while candidates:\n",
    "    node = candidates.pop()\n",
    "    if node.red >= min_red:\n",
    "        clade_roots.append(node)\n",
    "    else:\n",
    "        candidates.extend(child for child in node)\n",
    "    \n",
    "print(clade_roots)\n",
    "\n",
    "tree_dict = {node.name: node for node in tree.traverse()}\n",
    "\n",
    "groupings = []\n",
    "for clade_root in clade_roots:\n",
    "    \n",
    "    if len(list(clade_root.tips())) < n_clades:\n",
    "        groupings.append([])\n",
    "        continue\n",
    "        \n",
    "    chosen_clades = [(sum(node.red for node in clade_root),\n",
    "                     clade_root.name)]\n",
    "\n",
    "    while len(chosen_clades) < n_clades:\n",
    "        # if chosen_clades[0][0] < 3:\n",
    "        red_score, node_name = heapq.heappop(chosen_clades)\n",
    "        node = tree_dict[node_name] \n",
    "        if node.children:\n",
    "            for child in node:\n",
    "                heapq.heappush(chosen_clades,\n",
    "                               (sum(gc.red for gc in child),\n",
    "                                child.name))\n",
    "        else:\n",
    "            heapq.heappush(chosen_clades, (3, node.name))\n",
    "            \n",
    "    groupings.append([tree_dict[node_name] for \n",
    "                      _, node_name in chosen_clades])\n",
    "\n",
    "print(groupings)"
   ]
  },
  {
   "cell_type": "code",
   "execution_count": 16,
   "metadata": {},
   "outputs": [],
   "source": [
    "# value_counts = [dfg.loc[node.taxa]['lv2_group'].value_counts()\n",
    "#                 for node in groupings[0]]"
   ]
  },
  {
   "cell_type": "code",
   "execution_count": 17,
   "metadata": {},
   "outputs": [
    {
     "data": {
      "text/plain": [
       "4"
      ]
     },
     "execution_count": 17,
     "metadata": {},
     "output_type": "execute_result"
    }
   ],
   "source": [
    "len(groupings)"
   ]
  },
  {
   "cell_type": "markdown",
   "metadata": {},
   "source": [
    "## Sample genomes from within clade by WoL criteria:\n"
   ]
  },
  {
   "cell_type": "markdown",
   "metadata": {},
   "source": [
    "Criterium 1: Most marker genes."
   ]
  },
  {
   "cell_type": "code",
   "execution_count": 18,
   "metadata": {},
   "outputs": [],
   "source": [
    "g2markers = dfg['markers'].to_dict()"
   ]
  },
  {
   "cell_type": "code",
   "execution_count": 19,
   "metadata": {},
   "outputs": [],
   "source": [
    "def most_markers(gs, g2markers):\n",
    "    max_gs = []\n",
    "    max_markers = 0\n",
    "    for g in sorted(gs, key=lambda x: g2markers[x], reverse=True):\n",
    "        if max_markers == 0:\n",
    "            max_markers = g2markers[g]\n",
    "            max_gs.append(g)\n",
    "        elif max_markers == g2markers[g]:\n",
    "            max_gs.append(g)\n",
    "        else:\n",
    "            break\n",
    "        max_gs.append(g)\n",
    "    return max_gs, max_markers"
   ]
  },
  {
   "cell_type": "markdown",
   "metadata": {},
   "source": [
    "Criterium 2: Lowest contamination."
   ]
  },
  {
   "cell_type": "code",
   "execution_count": 20,
   "metadata": {},
   "outputs": [],
   "source": [
    "g2contam = dfg['contamination'].to_dict()"
   ]
  },
  {
   "cell_type": "code",
   "execution_count": 21,
   "metadata": {},
   "outputs": [],
   "source": [
    "def least_contaminated(gs, g2contam):\n",
    "    min_gs = []\n",
    "    min_contam = None\n",
    "    for g in sorted(gs, key=lambda x: g2contam[x]):\n",
    "        if min_contam is None:\n",
    "            min_contam = g2contam[g]\n",
    "            min_gs.append(g)\n",
    "        elif min_contam == g2contam[g]:\n",
    "            min_gs.append(g)\n",
    "        else:\n",
    "            break\n",
    "    return min_gs, min_contam"
   ]
  },
  {
   "cell_type": "markdown",
   "metadata": {},
   "source": [
    "Criterium 3: Highest DNA quality score."
   ]
  },
  {
   "cell_type": "code",
   "execution_count": 22,
   "metadata": {},
   "outputs": [],
   "source": [
    "g2dnaqty = dfg['score_fna'].to_dict()"
   ]
  },
  {
   "cell_type": "code",
   "execution_count": 23,
   "metadata": {},
   "outputs": [],
   "source": [
    "def best_dna(gs, g2dnaqty):\n",
    "    max_gs = []\n",
    "    max_dnaqty = 0\n",
    "    for g in sorted(gs, key=lambda x: g2dnaqty[x], reverse=True):\n",
    "        if max_dnaqty == 0:\n",
    "            max_dnaqty = g2dnaqty[g]\n",
    "            max_gs.append(g)\n",
    "        elif max_dnaqty == g2dnaqty[g]:\n",
    "            max_gs.append(g)\n",
    "        else:\n",
    "            break\n",
    "    return max_gs, max_dnaqty"
   ]
  },
  {
   "cell_type": "code",
   "execution_count": 24,
   "metadata": {},
   "outputs": [],
   "source": [
    "g2species = dfg['species'].to_dict()"
   ]
  },
  {
   "cell_type": "code",
   "execution_count": 25,
   "metadata": {},
   "outputs": [],
   "source": [
    "g2refseq_category = dfg['refseq_category'].to_dict()"
   ]
  },
  {
   "cell_type": "code",
   "execution_count": 26,
   "metadata": {},
   "outputs": [
    {
     "data": {
      "text/plain": [
       "na                       5567\n",
       "representative genome    4904\n",
       "reference genome          104\n",
       "Name: refseq_category, dtype: int64"
      ]
     },
     "execution_count": 26,
     "metadata": {},
     "output_type": "execute_result"
    }
   ],
   "source": [
    "dfg['refseq_category'].value_counts()"
   ]
  },
  {
   "cell_type": "code",
   "execution_count": 27,
   "metadata": {},
   "outputs": [],
   "source": [
    "categories = ['representative genome', 'reference genome']\n",
    "def is_complete_genome(gs, g2refseq_category):\n",
    "    new_gs = g2refseq_category.loc[gs]\n",
    "    new_gs = new_gs.loc[new_gs['refseq_category'].isin(categories)]\n",
    "    new_gs = list(new_gs.index)\n",
    "    if len(new_gs) > 0:\n",
    "        return new_gs, True\n",
    "    else:\n",
    "        return gs, False\n",
    "        "
   ]
  },
  {
   "cell_type": "code",
   "execution_count": 28,
   "metadata": {},
   "outputs": [
    {
     "name": "stdout",
     "output_type": "stream",
     "text": [
      "\n",
      "Group 0\n",
      "Clade N39: Equally good: G000311725, G000311725.\n",
      "Clade N13: Equally good: G000018605, G000018605.\n",
      "Warning: N38 has no complete child genomes\n",
      "Clade N38: Equally good: G001791795, G001791795.\n",
      "Clade N24: Equally good: G001708485, G001708485.\n",
      "N39 - G000311725: Bacillus massiliosenegalensis\n",
      "N38 - G001791795: Candidatus Wallbacteria bacterium GWC2_49_35\n",
      "N13 - G000018605: Petrotoga mobilis\n",
      "N24 - G001708485: Pseudomonas fluorescens\n",
      "\n",
      "Group 1\n",
      "Warning: N34 has no complete child genomes\n",
      "Clade N34: Equally good: G001818155, G001818155.\n",
      "Warning: N19 has no complete child genomes\n",
      "Clade N19: Equally good: G001779195, G001779195.\n",
      "Warning: N33 has no complete child genomes\n",
      "Clade N33: Equally good: G001788755, G001788755.\n",
      "Warning: G001873755 has no complete child genomes\n",
      "Clade G001873755: Equally good: G001873755, G001873755.\n",
      "N19 - G001779195: Candidatus Gottesmanbacteria bacterium RIFCSPHIGHO2_02_FULL_39_11\n",
      "N34 - G001818155: Candidatus Jacksonbacteria bacterium RIFCSPLOWO2_02_FULL_44_20\n",
      "N33 - G001788755: Candidatus Peregrinibacteria bacterium RIFOXYA2_FULL_33_21\n",
      "G001873755 - G001873755: Candidatus Wirthbacteria bacterium CG2_30_54_11\n",
      "\n",
      "Group 2\n",
      "Clade N28: Equally good: G000007005, G000007005.\n",
      "Clade N11: Equally good: G000328685, G000328685.\n",
      "Clade N27: Equally good: G000263735, G000263735.\n",
      "Warning: N15 has no complete child genomes\n",
      "Clade N15: Equally good: G001940645, G001940645.\n",
      "N15 - G001940645: Candidatus Heimdallarchaeota archaeon LC_3\n",
      "N11 - G000328685: Natronococcus occultus\n",
      "N27 - G000263735: Pyrococcus sp. ST04\n",
      "N28 - G000007005: Sulfolobus solfataricus\n",
      "\n",
      "Group 3\n",
      "Warning: G000830295 has no complete child genomes\n",
      "Clade G000830295: Equally good: G000830295, G000830295.\n",
      "Warning: G001871415 has no complete child genomes\n",
      "Clade G001871415: Equally good: G001871415, G001871415.\n",
      "Warning: G000402355 has no complete child genomes\n",
      "Clade G000402355: Equally good: G000402355, G000402355.\n",
      "Warning: G000830275 has no complete child genomes\n",
      "Clade G000830275: Equally good: G000830275, G000830275.\n",
      "G000402355 - G000402355: Candidatus Iainarchaeum andersonii\n",
      "G001871415 - G001871415: Candidatus Woesearchaeota archaeon CG1_02_57_44\n",
      "G000830275 - G000830275: archaeon GW2011_AR10\n",
      "G000830295 - G000830295: archaeon GW2011_AR15\n"
     ]
    }
   ],
   "source": [
    "reads_per_class = 10 ** 3\n",
    "genomes_groups = []\n",
    "for i, group in enumerate(groupings):\n",
    "    print(\"\\nGroup\", i)\n",
    "    chosen_clades = [node.name for node in group]\n",
    "    chosen_genomes = dict()\n",
    "    for nid in chosen_clades:\n",
    "        gs = tree_dict[nid].taxa\n",
    "\n",
    "        gs, complete = is_complete_genome(gs, dfg)\n",
    "        if not complete:\n",
    "            print(\"Warning: {} has no complete child genomes\".format(nid))\n",
    "        # maximize marker count\n",
    "        \n",
    "        gs, max_markers = most_markers(gs, g2markers)\n",
    "        \n",
    "        if len(gs) > 1:\n",
    "            # minimize contamination\n",
    "            gs, min_contam = least_contaminated(gs, g2contam)\n",
    "\n",
    "        if len(gs) > 1:\n",
    "            # maximize DNA quality\n",
    "            gs, max_dnaqty = best_dna(gs, g2dnaqty)\n",
    "\n",
    "        if len(gs) > 1:\n",
    "            # random choice\n",
    "            print('Clade %s: Equally good: %s.' % (nid, ', '.join(gs)))\n",
    "            g = choice(gs)\n",
    "        else:\n",
    "            g = max(gs)\n",
    "\n",
    "        chosen_genomes[nid] = g\n",
    "\n",
    "    genomes_groups.append(chosen_genomes.items())\n",
    "    add_rows = []\n",
    "    for nid, g in sorted(chosen_genomes.items(), key=lambda x: g2species[x[1]]):\n",
    "        add_rows.append([nid, g, reads_per_class])\n",
    "        print('%s - %s: %s' % (nid, g, g2species[g]))\n",
    "        \n",
    "    df = pd.DataFrame(add_rows, columns=['class', '#genome', 'n_reads'])\n",
    "    filtered_dfg = dfg.loc[dfg.index.isin(df['#genome'])].to_dict()\n",
    "    accessions = [filtered_dfg['assembly_accession'][genome] for genome in df['#genome']]\n",
    "    output_dir = 'data'\n",
    "    df['id'] = accessions\n",
    "    df.drop(['#genome'], axis=1, inplace=True)\n",
    "    f_name = 'min-red_{}__n_{}__group_{}__genome-ids.txt'.format(min_red, n_clades, i)\n",
    "    out_filename = os.path.join(output_dir, f_name)\n",
    "    df.to_csv(out_filename, index=None, sep='\\t')"
   ]
  }
 ],
 "metadata": {
  "kernelspec": {
   "display_name": "Python 3",
   "language": "python",
   "name": "python3"
  },
  "language_info": {
   "codemirror_mode": {
    "name": "ipython",
    "version": 3
   },
   "file_extension": ".py",
   "mimetype": "text/x-python",
   "name": "python",
   "nbconvert_exporter": "python",
   "pygments_lexer": "ipython3",
   "version": "3.7.3"
  }
 },
 "nbformat": 4,
 "nbformat_minor": 2
}
